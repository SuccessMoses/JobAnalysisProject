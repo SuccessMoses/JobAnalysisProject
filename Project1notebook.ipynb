{
 "cells": [
  {
   "cell_type": "markdown",
   "id": "fb4b1116-68d1-4c8f-93de-3c833c21832f",
   "metadata": {},
   "source": [
    "# **Project 1: Analysis of LinkedIn Job Postings for 2024**\n",
    "\n",
    "This project aims to explore and analyze data from LinkedIn job postings, focusing on the year 2024. The dataset, sourced from **[Kaggle](https://www.kaggle.com/datasets/arshkon/linkedin-job-postings)**, consists of 11 CSV files containing detailed information on job postings, including company names, industries, specialties, skill requirements, salaries, job types, and more. \n",
    "\n",
    "The primary objective is to clean and transform the datasets, then store them in a well-structured MySQL relational database. This ensures data integrity, efficient querying, and seamless integration with analytical tools. \n",
    "\n",
    "Once the data is stored, it will be queried and analyzed to uncover key insights, which will be visualized and shared using Microsoft Power BI. The goal of this project is to create an interactive dashboard, offering valuable insights into the job market trends, skill demands, and industry distribution for LinkedIn job postings in 2024."
   ]
  },
  {
   "cell_type": "code",
   "execution_count": 28,
   "id": "a50dce6a-5608-458c-a81c-bfc1f2173478",
   "metadata": {},
   "outputs": [],
   "source": [
    "import os\n",
    "import pandas as pd\n",
    "import numpy as np\n",
    "import matplotlib.pyplot as plt"
   ]
  },
  {
   "cell_type": "code",
   "execution_count": 29,
   "id": "d76dc1de-dd6b-4c7f-8dbd-ce9c7d9e0235",
   "metadata": {
    "scrolled": true
   },
   "outputs": [],
   "source": [
    "# Specify the path to the folder containing your data files\n",
    "data_folder = os.path.expanduser('data')\n",
    "\n",
    "# Load all the data files in the specified folder\n",
    "dataframes = {} # Dictionary to hold all Dataframes\n",
    "\n",
    "for filename in os.listdir(data_folder): # Check for Excel files\n",
    "    if filename.endswith('.csv'):\n",
    "        file_path = os.path.join(data_folder, filename)\n",
    "        df = pd.read_csv(file_path)\n",
    "        dataframes[filename] = df # Store the filename as a key and Dataframe as value\n"
   ]
  },
  {
   "cell_type": "code",
   "execution_count": 30,
   "id": "ae5c14af-0aa3-45ee-b041-bd7e6f1f997a",
   "metadata": {},
   "outputs": [
    {
     "name": "stdout",
     "output_type": "stream",
     "text": [
      "Data loaded from benefits.csv:\n",
      "Data loaded from companies.csv:\n",
      "Data loaded from company_industries.csv:\n",
      "Data loaded from company_specialities.csv:\n",
      "Data loaded from employee_counts.csv:\n",
      "Data loaded from industries.csv:\n",
      "Data loaded from job_industries.csv:\n",
      "Data loaded from job_skills.csv:\n",
      "Data loaded from postings.csv:\n",
      "Data loaded from salaries.csv:\n",
      "Data loaded from skills.csv:\n"
     ]
    }
   ],
   "source": [
    "# Display the loaded DataFrames\n",
    "for name, df in dataframes.items():\n",
    "    print(f\"Data loaded from {name}:\")"
   ]
  },
  {
   "cell_type": "markdown",
   "id": "9363136f-7567-43cc-9f5e-860fe2abafee",
   "metadata": {
    "scrolled": true
   },
   "source": [
    "# The Data\n",
    "## benefits.csv\n",
    "The `benefits.csv` file is a dimension table that contains information about benefits like `medical insurance` for job postings. It contains `job_id` which is a primary key, `inferred` and `type`. Also, it does not contain any missing values."
   ]
  },
  {
   "cell_type": "code",
   "execution_count": 31,
   "id": "8c032ca8-c7e3-4587-b996-f373fab125d0",
   "metadata": {},
   "outputs": [
    {
     "data": {
      "text/html": [
       "<div>\n",
       "<style scoped>\n",
       "    .dataframe tbody tr th:only-of-type {\n",
       "        vertical-align: middle;\n",
       "    }\n",
       "\n",
       "    .dataframe tbody tr th {\n",
       "        vertical-align: top;\n",
       "    }\n",
       "\n",
       "    .dataframe thead th {\n",
       "        text-align: right;\n",
       "    }\n",
       "</style>\n",
       "<table border=\"1\" class=\"dataframe\">\n",
       "  <thead>\n",
       "    <tr style=\"text-align: right;\">\n",
       "      <th></th>\n",
       "      <th>job_id</th>\n",
       "      <th>inferred</th>\n",
       "      <th>type</th>\n",
       "    </tr>\n",
       "  </thead>\n",
       "  <tbody>\n",
       "    <tr>\n",
       "      <th>0</th>\n",
       "      <td>3887473071</td>\n",
       "      <td>0</td>\n",
       "      <td>Medical insurance</td>\n",
       "    </tr>\n",
       "    <tr>\n",
       "      <th>1</th>\n",
       "      <td>3887473071</td>\n",
       "      <td>0</td>\n",
       "      <td>Vision insurance</td>\n",
       "    </tr>\n",
       "    <tr>\n",
       "      <th>2</th>\n",
       "      <td>3887473071</td>\n",
       "      <td>0</td>\n",
       "      <td>Dental insurance</td>\n",
       "    </tr>\n",
       "    <tr>\n",
       "      <th>3</th>\n",
       "      <td>3887473071</td>\n",
       "      <td>0</td>\n",
       "      <td>401(k)</td>\n",
       "    </tr>\n",
       "    <tr>\n",
       "      <th>4</th>\n",
       "      <td>3887473071</td>\n",
       "      <td>0</td>\n",
       "      <td>Student loan assistance</td>\n",
       "    </tr>\n",
       "  </tbody>\n",
       "</table>\n",
       "</div>"
      ],
      "text/plain": [
       "       job_id  inferred                     type\n",
       "0  3887473071         0        Medical insurance\n",
       "1  3887473071         0         Vision insurance\n",
       "2  3887473071         0         Dental insurance\n",
       "3  3887473071         0                   401(k)\n",
       "4  3887473071         0  Student loan assistance"
      ]
     },
     "execution_count": 31,
     "metadata": {},
     "output_type": "execute_result"
    }
   ],
   "source": [
    "# Print the first few row of benefits.csv\n",
    "dataframes['benefits.csv'].head()"
   ]
  },
  {
   "cell_type": "code",
   "execution_count": 32,
   "id": "6eaf2b83-c9eb-4485-b3df-1a11cb0a6574",
   "metadata": {},
   "outputs": [
    {
     "data": {
      "text/plain": [
       "job_id      0\n",
       "inferred    0\n",
       "type        0\n",
       "dtype: int64"
      ]
     },
     "execution_count": 32,
     "metadata": {},
     "output_type": "execute_result"
    }
   ],
   "source": [
    "# Check for missing values\n",
    "dataframes['benefits.csv'].isnull().sum()"
   ]
  },
  {
   "cell_type": "markdown",
   "id": "636a989a-d9a1-42c4-86b1-efe240065918",
   "metadata": {},
   "source": [
    "## companies.csv\n",
    "The `companies.csv` file is a dimension table that conatins information about companies such as `address` and `description`. Some records in the data are missing attributes such as `description` and `company_size`. These missing values are going to be ignored for now."
   ]
  },
  {
   "cell_type": "code",
   "execution_count": 33,
   "id": "38b188a0-d20f-4edc-98ec-2cb96a8bedf9",
   "metadata": {},
   "outputs": [
    {
     "data": {
      "text/html": [
       "<div>\n",
       "<style scoped>\n",
       "    .dataframe tbody tr th:only-of-type {\n",
       "        vertical-align: middle;\n",
       "    }\n",
       "\n",
       "    .dataframe tbody tr th {\n",
       "        vertical-align: top;\n",
       "    }\n",
       "\n",
       "    .dataframe thead th {\n",
       "        text-align: right;\n",
       "    }\n",
       "</style>\n",
       "<table border=\"1\" class=\"dataframe\">\n",
       "  <thead>\n",
       "    <tr style=\"text-align: right;\">\n",
       "      <th></th>\n",
       "      <th>company_id</th>\n",
       "      <th>name</th>\n",
       "      <th>description</th>\n",
       "      <th>company_size</th>\n",
       "      <th>state</th>\n",
       "      <th>country</th>\n",
       "      <th>city</th>\n",
       "      <th>zip_code</th>\n",
       "      <th>address</th>\n",
       "      <th>url</th>\n",
       "    </tr>\n",
       "  </thead>\n",
       "  <tbody>\n",
       "    <tr>\n",
       "      <th>0</th>\n",
       "      <td>1009</td>\n",
       "      <td>IBM</td>\n",
       "      <td>At IBM, we do more than work. We create. We cr...</td>\n",
       "      <td>7.0</td>\n",
       "      <td>NY</td>\n",
       "      <td>US</td>\n",
       "      <td>Armonk, New York</td>\n",
       "      <td>10504</td>\n",
       "      <td>International Business Machines Corp.</td>\n",
       "      <td>https://www.linkedin.com/company/ibm</td>\n",
       "    </tr>\n",
       "    <tr>\n",
       "      <th>1</th>\n",
       "      <td>1016</td>\n",
       "      <td>GE HealthCare</td>\n",
       "      <td>Every day millions of people feel the impact o...</td>\n",
       "      <td>7.0</td>\n",
       "      <td>0</td>\n",
       "      <td>US</td>\n",
       "      <td>Chicago</td>\n",
       "      <td>0</td>\n",
       "      <td>-</td>\n",
       "      <td>https://www.linkedin.com/company/gehealthcare</td>\n",
       "    </tr>\n",
       "    <tr>\n",
       "      <th>2</th>\n",
       "      <td>1025</td>\n",
       "      <td>Hewlett Packard Enterprise</td>\n",
       "      <td>Official LinkedIn of Hewlett Packard Enterpris...</td>\n",
       "      <td>7.0</td>\n",
       "      <td>Texas</td>\n",
       "      <td>US</td>\n",
       "      <td>Houston</td>\n",
       "      <td>77389</td>\n",
       "      <td>1701 E Mossy Oaks Rd Spring</td>\n",
       "      <td>https://www.linkedin.com/company/hewlett-packa...</td>\n",
       "    </tr>\n",
       "    <tr>\n",
       "      <th>3</th>\n",
       "      <td>1028</td>\n",
       "      <td>Oracle</td>\n",
       "      <td>We’re a cloud technology company that provides...</td>\n",
       "      <td>7.0</td>\n",
       "      <td>Texas</td>\n",
       "      <td>US</td>\n",
       "      <td>Austin</td>\n",
       "      <td>78741</td>\n",
       "      <td>2300 Oracle Way</td>\n",
       "      <td>https://www.linkedin.com/company/oracle</td>\n",
       "    </tr>\n",
       "    <tr>\n",
       "      <th>4</th>\n",
       "      <td>1033</td>\n",
       "      <td>Accenture</td>\n",
       "      <td>Accenture is a leading global professional ser...</td>\n",
       "      <td>7.0</td>\n",
       "      <td>0</td>\n",
       "      <td>IE</td>\n",
       "      <td>Dublin 2</td>\n",
       "      <td>0</td>\n",
       "      <td>Grand Canal Harbour</td>\n",
       "      <td>https://www.linkedin.com/company/accenture</td>\n",
       "    </tr>\n",
       "  </tbody>\n",
       "</table>\n",
       "</div>"
      ],
      "text/plain": [
       "   company_id                        name  \\\n",
       "0        1009                         IBM   \n",
       "1        1016               GE HealthCare   \n",
       "2        1025  Hewlett Packard Enterprise   \n",
       "3        1028                      Oracle   \n",
       "4        1033                   Accenture   \n",
       "\n",
       "                                         description  company_size  state  \\\n",
       "0  At IBM, we do more than work. We create. We cr...           7.0     NY   \n",
       "1  Every day millions of people feel the impact o...           7.0      0   \n",
       "2  Official LinkedIn of Hewlett Packard Enterpris...           7.0  Texas   \n",
       "3  We’re a cloud technology company that provides...           7.0  Texas   \n",
       "4  Accenture is a leading global professional ser...           7.0      0   \n",
       "\n",
       "  country              city zip_code                                address  \\\n",
       "0      US  Armonk, New York    10504  International Business Machines Corp.   \n",
       "1      US           Chicago        0                                      -   \n",
       "2      US           Houston    77389            1701 E Mossy Oaks Rd Spring   \n",
       "3      US            Austin    78741                        2300 Oracle Way   \n",
       "4      IE          Dublin 2        0                    Grand Canal Harbour   \n",
       "\n",
       "                                                 url  \n",
       "0               https://www.linkedin.com/company/ibm  \n",
       "1      https://www.linkedin.com/company/gehealthcare  \n",
       "2  https://www.linkedin.com/company/hewlett-packa...  \n",
       "3            https://www.linkedin.com/company/oracle  \n",
       "4         https://www.linkedin.com/company/accenture  "
      ]
     },
     "execution_count": 33,
     "metadata": {},
     "output_type": "execute_result"
    }
   ],
   "source": [
    "# Print the first few row of companies.csv\n",
    "dataframes['companies.csv'].head()"
   ]
  },
  {
   "cell_type": "code",
   "execution_count": 34,
   "id": "0fed30ff-4b43-4966-a45c-82616a945412",
   "metadata": {},
   "outputs": [
    {
     "data": {
      "text/plain": [
       "company_id         0\n",
       "name               1\n",
       "description      297\n",
       "company_size    2774\n",
       "state             22\n",
       "country            0\n",
       "city               1\n",
       "zip_code          28\n",
       "address           22\n",
       "url                0\n",
       "dtype: int64"
      ]
     },
     "execution_count": 34,
     "metadata": {},
     "output_type": "execute_result"
    }
   ],
   "source": [
    "# Check for missing values\n",
    "dataframes['companies.csv'].isnull().sum()"
   ]
  },
  {
   "cell_type": "markdown",
   "id": "c4e3f238-cd09-4bb3-8182-fc3bf2e9de47",
   "metadata": {},
   "source": [
    "## company_industries.csv\n",
    "This file is a dimension table that contains information about the industry that each company belongs to. `company_id` is a primary key."
   ]
  },
  {
   "cell_type": "code",
   "execution_count": 35,
   "id": "33cc9345-cb2d-4599-b791-047d0a9ded7c",
   "metadata": {},
   "outputs": [
    {
     "data": {
      "text/html": [
       "<div>\n",
       "<style scoped>\n",
       "    .dataframe tbody tr th:only-of-type {\n",
       "        vertical-align: middle;\n",
       "    }\n",
       "\n",
       "    .dataframe tbody tr th {\n",
       "        vertical-align: top;\n",
       "    }\n",
       "\n",
       "    .dataframe thead th {\n",
       "        text-align: right;\n",
       "    }\n",
       "</style>\n",
       "<table border=\"1\" class=\"dataframe\">\n",
       "  <thead>\n",
       "    <tr style=\"text-align: right;\">\n",
       "      <th></th>\n",
       "      <th>company_id</th>\n",
       "      <th>industry</th>\n",
       "    </tr>\n",
       "  </thead>\n",
       "  <tbody>\n",
       "    <tr>\n",
       "      <th>0</th>\n",
       "      <td>391906</td>\n",
       "      <td>Book and Periodical Publishing</td>\n",
       "    </tr>\n",
       "    <tr>\n",
       "      <th>1</th>\n",
       "      <td>22292832</td>\n",
       "      <td>Construction</td>\n",
       "    </tr>\n",
       "    <tr>\n",
       "      <th>2</th>\n",
       "      <td>20300</td>\n",
       "      <td>Banking</td>\n",
       "    </tr>\n",
       "    <tr>\n",
       "      <th>3</th>\n",
       "      <td>3570660</td>\n",
       "      <td>Book and Periodical Publishing</td>\n",
       "    </tr>\n",
       "    <tr>\n",
       "      <th>4</th>\n",
       "      <td>878353</td>\n",
       "      <td>Staffing and Recruiting</td>\n",
       "    </tr>\n",
       "  </tbody>\n",
       "</table>\n",
       "</div>"
      ],
      "text/plain": [
       "   company_id                        industry\n",
       "0      391906  Book and Periodical Publishing\n",
       "1    22292832                    Construction\n",
       "2       20300                         Banking\n",
       "3     3570660  Book and Periodical Publishing\n",
       "4      878353         Staffing and Recruiting"
      ]
     },
     "execution_count": 35,
     "metadata": {},
     "output_type": "execute_result"
    }
   ],
   "source": [
    "# Print the first few row of company_industries.csv\n",
    "dataframes['company_industries.csv'].head()"
   ]
  },
  {
   "cell_type": "code",
   "execution_count": 36,
   "id": "6c98861c-1a9a-4f2d-a3ad-0b8c2bd9750b",
   "metadata": {},
   "outputs": [
    {
     "data": {
      "text/plain": [
       "company_id    0\n",
       "industry      0\n",
       "dtype: int64"
      ]
     },
     "execution_count": 36,
     "metadata": {},
     "output_type": "execute_result"
    }
   ],
   "source": [
    "# Check for missing values\n",
    "dataframes['company_industries.csv'].isnull().sum()"
   ]
  },
  {
   "cell_type": "markdown",
   "id": "f9e0cb52-6b4f-45ee-9f07-de88b6dbbde0",
   "metadata": {},
   "source": [
    "## company_industries.csv\n",
    "This file is a dimension table that contains information about the speciality of each company. `company_id` is a primary key. It does not contain any missing values."
   ]
  },
  {
   "cell_type": "code",
   "execution_count": 37,
   "id": "64757f8f-a05b-41d9-b810-2815228d9b89",
   "metadata": {},
   "outputs": [
    {
     "data": {
      "text/html": [
       "<div>\n",
       "<style scoped>\n",
       "    .dataframe tbody tr th:only-of-type {\n",
       "        vertical-align: middle;\n",
       "    }\n",
       "\n",
       "    .dataframe tbody tr th {\n",
       "        vertical-align: top;\n",
       "    }\n",
       "\n",
       "    .dataframe thead th {\n",
       "        text-align: right;\n",
       "    }\n",
       "</style>\n",
       "<table border=\"1\" class=\"dataframe\">\n",
       "  <thead>\n",
       "    <tr style=\"text-align: right;\">\n",
       "      <th></th>\n",
       "      <th>company_id</th>\n",
       "      <th>speciality</th>\n",
       "    </tr>\n",
       "  </thead>\n",
       "  <tbody>\n",
       "    <tr>\n",
       "      <th>0</th>\n",
       "      <td>22292832</td>\n",
       "      <td>window replacement</td>\n",
       "    </tr>\n",
       "    <tr>\n",
       "      <th>1</th>\n",
       "      <td>22292832</td>\n",
       "      <td>patio door replacement</td>\n",
       "    </tr>\n",
       "    <tr>\n",
       "      <th>2</th>\n",
       "      <td>20300</td>\n",
       "      <td>Commercial Banking</td>\n",
       "    </tr>\n",
       "    <tr>\n",
       "      <th>3</th>\n",
       "      <td>20300</td>\n",
       "      <td>Retail Banking</td>\n",
       "    </tr>\n",
       "    <tr>\n",
       "      <th>4</th>\n",
       "      <td>20300</td>\n",
       "      <td>Mortgage</td>\n",
       "    </tr>\n",
       "  </tbody>\n",
       "</table>\n",
       "</div>"
      ],
      "text/plain": [
       "   company_id              speciality\n",
       "0    22292832      window replacement\n",
       "1    22292832  patio door replacement\n",
       "2       20300      Commercial Banking\n",
       "3       20300          Retail Banking\n",
       "4       20300                Mortgage"
      ]
     },
     "execution_count": 37,
     "metadata": {},
     "output_type": "execute_result"
    }
   ],
   "source": [
    "# Print the first few row of company_specialisations.csv\n",
    "dataframes['company_specialities.csv'].head()"
   ]
  },
  {
   "cell_type": "code",
   "execution_count": 38,
   "id": "2a7dd4b5-2f56-4eff-bb49-0fb3dc4b3522",
   "metadata": {},
   "outputs": [
    {
     "data": {
      "text/plain": [
       "company_id    0\n",
       "speciality    0\n",
       "dtype: int64"
      ]
     },
     "execution_count": 38,
     "metadata": {},
     "output_type": "execute_result"
    }
   ],
   "source": [
    "# Check for missing values\n",
    "dataframes['company_specialities.csv'].isnull().sum()"
   ]
  },
  {
   "cell_type": "markdown",
   "id": "bedabfa2-a753-470a-ba40-51f63dc5e467",
   "metadata": {},
   "source": [
    "# postings.csv\n",
    "The psotings.csv is the main fact table. It contains `123849` records(rows) and `31` attributes(columns). It contains job posting scraped from the linkedin website and this is the main table that would be used for the data analysis. Each job posting has a lot of attributes some of which are useful and some are not very useful. The primary key in the table is `job_id`."
   ]
  },
  {
   "cell_type": "code",
   "execution_count": 39,
   "id": "fc1d8a22-34a6-4ea6-a08d-1ad6bada473b",
   "metadata": {},
   "outputs": [
    {
     "data": {
      "text/plain": [
       "(123849, 31)"
      ]
     },
     "execution_count": 39,
     "metadata": {},
     "output_type": "execute_result"
    }
   ],
   "source": [
    "# Print the number of rows and columns\n",
    "dataframes['postings.csv'].shape"
   ]
  },
  {
   "cell_type": "code",
   "execution_count": 40,
   "id": "dec97ea4-3ba5-4b26-bb41-a9193d8e38b7",
   "metadata": {},
   "outputs": [
    {
     "data": {
      "text/plain": [
       "Index(['job_id', 'company_name', 'title', 'description', 'max_salary',\n",
       "       'pay_period', 'location', 'company_id', 'views', 'med_salary',\n",
       "       'min_salary', 'formatted_work_type', 'applies', 'original_listed_time',\n",
       "       'remote_allowed', 'job_posting_url', 'application_url',\n",
       "       'application_type', 'expiry', 'closed_time',\n",
       "       'formatted_experience_level', 'skills_desc', 'listed_time',\n",
       "       'posting_domain', 'sponsored', 'work_type', 'currency',\n",
       "       'compensation_type', 'normalized_salary', 'zip_code', 'fips'],\n",
       "      dtype='object')"
      ]
     },
     "execution_count": 40,
     "metadata": {},
     "output_type": "execute_result"
    }
   ],
   "source": [
    "# Print a lsit of columns in 'postings.csv'\n",
    "dataframes['postings.csv'].columns"
   ]
  },
  {
   "cell_type": "markdown",
   "id": "14070c95-2092-42e7-8acb-71312f32f2de",
   "metadata": {},
   "source": [
    "### *Removing missing values*\n",
    "To deal with missing values, columns that contain a 70% of null values will be removed to ensure that the data is at the highest quality."
   ]
  },
  {
   "cell_type": "code",
   "execution_count": 41,
   "id": "30016624-e52a-451f-a5f2-157669c3f84f",
   "metadata": {},
   "outputs": [
    {
     "data": {
      "text/plain": [
       "job_id                        0.000000\n",
       "company_name                  0.013880\n",
       "title                         0.000000\n",
       "description                   0.000057\n",
       "max_salary                    0.759441\n",
       "pay_period                    0.708734\n",
       "location                      0.000000\n",
       "company_id                    0.013864\n",
       "views                         0.013638\n",
       "med_salary                    0.949293\n",
       "min_salary                    0.759441\n",
       "formatted_work_type           0.000000\n",
       "applies                       0.811706\n",
       "original_listed_time          0.000000\n",
       "remote_allowed                0.876898\n",
       "job_posting_url               0.000000\n",
       "application_url               0.296046\n",
       "application_type              0.000000\n",
       "expiry                        0.000000\n",
       "closed_time                   0.991336\n",
       "formatted_experience_level    0.237459\n",
       "skills_desc                   0.980307\n",
       "listed_time                   0.000000\n",
       "posting_domain                0.322716\n",
       "sponsored                     0.000000\n",
       "work_type                     0.000000\n",
       "currency                      0.708734\n",
       "compensation_type             0.708734\n",
       "normalized_salary             0.708734\n",
       "zip_code                      0.168528\n",
       "fips                          0.221358\n",
       "dtype: float64"
      ]
     },
     "execution_count": 41,
     "metadata": {},
     "output_type": "execute_result"
    }
   ],
   "source": [
    "# Print the proportion of missing values in each column\n",
    "dataframes['postings.csv'].isnull().sum() / dataframes['postings.csv'].shape[0]"
   ]
  },
  {
   "cell_type": "code",
   "execution_count": 42,
   "id": "ece54595-cb69-46d2-95e5-9c4882f311c1",
   "metadata": {},
   "outputs": [],
   "source": [
    "# Removing columns with a lot missing values\n",
    "columns_to_remove = ['max_salary', 'pay_period', 'med_salary', 'min_salary', 'applies', 'remote_allowed',\n",
    "                     'application_url', 'closed_time', 'formatted_experience_level', 'skills_desc', 'currency', \n",
    "                     'compensation_type', 'normalized_salary', 'original_listed_time']\n",
    "\n",
    "dataframes['postings.csv'] = dataframes['postings.csv'].drop(columns=columns_to_remove)"
   ]
  },
  {
   "cell_type": "code",
   "execution_count": 43,
   "id": "67d6e845-6824-433a-ba1b-3673ecfab694",
   "metadata": {},
   "outputs": [
    {
     "data": {
      "text/html": [
       "<div>\n",
       "<style scoped>\n",
       "    .dataframe tbody tr th:only-of-type {\n",
       "        vertical-align: middle;\n",
       "    }\n",
       "\n",
       "    .dataframe tbody tr th {\n",
       "        vertical-align: top;\n",
       "    }\n",
       "\n",
       "    .dataframe thead th {\n",
       "        text-align: right;\n",
       "    }\n",
       "</style>\n",
       "<table border=\"1\" class=\"dataframe\">\n",
       "  <thead>\n",
       "    <tr style=\"text-align: right;\">\n",
       "      <th></th>\n",
       "      <th>job_id</th>\n",
       "      <th>company_name</th>\n",
       "      <th>location</th>\n",
       "      <th>company_id</th>\n",
       "      <th>views</th>\n",
       "      <th>formatted_work_type</th>\n",
       "      <th>application_type</th>\n",
       "      <th>expiry</th>\n",
       "      <th>listed_time</th>\n",
       "      <th>sponsored</th>\n",
       "      <th>work_type</th>\n",
       "      <th>zip_code</th>\n",
       "      <th>fips</th>\n",
       "    </tr>\n",
       "  </thead>\n",
       "  <tbody>\n",
       "    <tr>\n",
       "      <th>0</th>\n",
       "      <td>921716</td>\n",
       "      <td>Corcoran Sawyer Smith</td>\n",
       "      <td>Princeton, NJ</td>\n",
       "      <td>2774458.0</td>\n",
       "      <td>20.0</td>\n",
       "      <td>Full-time</td>\n",
       "      <td>ComplexOnsiteApply</td>\n",
       "      <td>1.715990e+12</td>\n",
       "      <td>1.713398e+12</td>\n",
       "      <td>0</td>\n",
       "      <td>FULL_TIME</td>\n",
       "      <td>8540.0</td>\n",
       "      <td>34021.0</td>\n",
       "    </tr>\n",
       "    <tr>\n",
       "      <th>1</th>\n",
       "      <td>1829192</td>\n",
       "      <td>NaN</td>\n",
       "      <td>Fort Collins, CO</td>\n",
       "      <td>NaN</td>\n",
       "      <td>1.0</td>\n",
       "      <td>Full-time</td>\n",
       "      <td>ComplexOnsiteApply</td>\n",
       "      <td>1.715450e+12</td>\n",
       "      <td>1.712858e+12</td>\n",
       "      <td>0</td>\n",
       "      <td>FULL_TIME</td>\n",
       "      <td>80521.0</td>\n",
       "      <td>8069.0</td>\n",
       "    </tr>\n",
       "    <tr>\n",
       "      <th>2</th>\n",
       "      <td>10998357</td>\n",
       "      <td>The National Exemplar</td>\n",
       "      <td>Cincinnati, OH</td>\n",
       "      <td>64896719.0</td>\n",
       "      <td>8.0</td>\n",
       "      <td>Full-time</td>\n",
       "      <td>ComplexOnsiteApply</td>\n",
       "      <td>1.715870e+12</td>\n",
       "      <td>1.713278e+12</td>\n",
       "      <td>0</td>\n",
       "      <td>FULL_TIME</td>\n",
       "      <td>45202.0</td>\n",
       "      <td>39061.0</td>\n",
       "    </tr>\n",
       "    <tr>\n",
       "      <th>3</th>\n",
       "      <td>23221523</td>\n",
       "      <td>Abrams Fensterman, LLP</td>\n",
       "      <td>New Hyde Park, NY</td>\n",
       "      <td>766262.0</td>\n",
       "      <td>16.0</td>\n",
       "      <td>Full-time</td>\n",
       "      <td>ComplexOnsiteApply</td>\n",
       "      <td>1.715488e+12</td>\n",
       "      <td>1.712896e+12</td>\n",
       "      <td>0</td>\n",
       "      <td>FULL_TIME</td>\n",
       "      <td>11040.0</td>\n",
       "      <td>36059.0</td>\n",
       "    </tr>\n",
       "    <tr>\n",
       "      <th>4</th>\n",
       "      <td>35982263</td>\n",
       "      <td>NaN</td>\n",
       "      <td>Burlington, IA</td>\n",
       "      <td>NaN</td>\n",
       "      <td>3.0</td>\n",
       "      <td>Full-time</td>\n",
       "      <td>ComplexOnsiteApply</td>\n",
       "      <td>1.716044e+12</td>\n",
       "      <td>1.713452e+12</td>\n",
       "      <td>0</td>\n",
       "      <td>FULL_TIME</td>\n",
       "      <td>52601.0</td>\n",
       "      <td>19057.0</td>\n",
       "    </tr>\n",
       "  </tbody>\n",
       "</table>\n",
       "</div>"
      ],
      "text/plain": [
       "     job_id            company_name           location  company_id  views  \\\n",
       "0    921716   Corcoran Sawyer Smith      Princeton, NJ   2774458.0   20.0   \n",
       "1   1829192                     NaN   Fort Collins, CO         NaN    1.0   \n",
       "2  10998357  The National Exemplar      Cincinnati, OH  64896719.0    8.0   \n",
       "3  23221523  Abrams Fensterman, LLP  New Hyde Park, NY    766262.0   16.0   \n",
       "4  35982263                     NaN     Burlington, IA         NaN    3.0   \n",
       "\n",
       "  formatted_work_type    application_type        expiry   listed_time  \\\n",
       "0           Full-time  ComplexOnsiteApply  1.715990e+12  1.713398e+12   \n",
       "1           Full-time  ComplexOnsiteApply  1.715450e+12  1.712858e+12   \n",
       "2           Full-time  ComplexOnsiteApply  1.715870e+12  1.713278e+12   \n",
       "3           Full-time  ComplexOnsiteApply  1.715488e+12  1.712896e+12   \n",
       "4           Full-time  ComplexOnsiteApply  1.716044e+12  1.713452e+12   \n",
       "\n",
       "   sponsored  work_type  zip_code     fips  \n",
       "0          0  FULL_TIME    8540.0  34021.0  \n",
       "1          0  FULL_TIME   80521.0   8069.0  \n",
       "2          0  FULL_TIME   45202.0  39061.0  \n",
       "3          0  FULL_TIME   11040.0  36059.0  \n",
       "4          0  FULL_TIME   52601.0  19057.0  "
      ]
     },
     "execution_count": 43,
     "metadata": {},
     "output_type": "execute_result"
    }
   ],
   "source": [
    "# Display the postings.csv table with only necessary columns\n",
    "dataframes['postings.csv'].drop(columns=['title', 'description', 'job_posting_url', 'posting_domain']).head()"
   ]
  },
  {
   "cell_type": "markdown",
   "id": "843ef88d-cdcf-4e8d-9822-9df59e2d3955",
   "metadata": {},
   "source": [
    "### *Transforming columns*\n",
    "The columns `expiry` and `listing_time` are columns that could potentially be useful. They are supposed to be Date/Time data but here they are stored as integers. These values would need to be converted into Date/Time."
   ]
  },
  {
   "cell_type": "code",
   "execution_count": 44,
   "id": "6793dd5b-e212-472a-895c-6b6e684472f1",
   "metadata": {},
   "outputs": [],
   "source": [
    "# Convert 'expiry' and 'listing_time' columns from integers to Date/Time\n",
    "dataframes['postings.csv']['expiry'] = pd.to_datetime(dataframes['postings.csv']['expiry'], unit='ms')\n",
    "dataframes['postings.csv']['listed_time'] = pd.to_datetime(dataframes['postings.csv']['listed_time'], unit='ms')"
   ]
  },
  {
   "cell_type": "markdown",
   "id": "acb548b9-b89a-45ce-a3e3-82d9b672ace2",
   "metadata": {},
   "source": [
    "## Storing in a database\n",
    "The reason for storing in a database is to ensure data efficiecy and integrity. Each pandas dataframe in `dataframes` will be stored as a table in the `jobListings` database using the `to_sql` method. "
   ]
  },
  {
   "cell_type": "code",
   "execution_count": 45,
   "id": "3b6b0f84-d58d-4f05-9476-5e4a239eacfb",
   "metadata": {},
   "outputs": [],
   "source": [
    "import pymysql\n",
    "from sqlalchemy import create_engine"
   ]
  },
  {
   "cell_type": "code",
   "execution_count": 3,
   "id": "726ab07f-aa3e-4e7b-b5f5-537d32ba1ae9",
   "metadata": {},
   "outputs": [
    {
     "name": "stdin",
     "output_type": "stream",
     "text": [
      " ········\n"
     ]
    }
   ],
   "source": [
    "# set database parameters\n",
    "from getpass import getpass\n",
    "username = 'root'\n",
    "password = getpass() # requires user input to get password\n",
    "host = 'localhost'\n",
    "port = '3306'\n",
    "database_name = 'jobListings' #database name, this was created manually using MySQL command line "
   ]
  },
  {
   "cell_type": "code",
   "execution_count": 47,
   "id": "d6cdefae-891b-443f-b549-d1db69e108eb",
   "metadata": {},
   "outputs": [],
   "source": [
    "# Create a database connection engine\n",
    "connection_string = f'mysql+mysqlconnector://{username}:{password}@{host}/{database_name}'\n",
    "\n",
    "engine = create_engine(connection_string)"
   ]
  },
  {
   "cell_type": "code",
   "execution_count": 48,
   "id": "c101f861-4762-46b7-bae0-96ed98f26cdc",
   "metadata": {},
   "outputs": [
    {
     "name": "stdout",
     "output_type": "stream",
     "text": [
      "benefits.csv saved to the MySQL database successfully!\n",
      "companies.csv saved to the MySQL database successfully!\n",
      "company_industries.csv saved to the MySQL database successfully!\n",
      "company_specialities.csv saved to the MySQL database successfully!\n",
      "employee_counts.csv saved to the MySQL database successfully!\n",
      "industries.csv saved to the MySQL database successfully!\n",
      "job_industries.csv saved to the MySQL database successfully!\n",
      "job_skills.csv saved to the MySQL database successfully!\n",
      "postings.csv saved to the MySQL database successfully!\n",
      "salaries.csv saved to the MySQL database successfully!\n",
      "skills.csv saved to the MySQL database successfully!\n"
     ]
    }
   ],
   "source": [
    "# Save each Dataframe to the database\n",
    "for table_name, df in dataframes.items():\n",
    "    df.to_sql(name=table_name, con=engine, if_exists='replace', index=False, chunksize=1000)\n",
    "    print(f\"{table_name} saved to the MySQL database successfully!\")\n"
   ]
  },
  {
   "cell_type": "markdown",
   "id": "9cf24c9d-2a55-439f-a30e-cafb9f4997bc",
   "metadata": {},
   "source": [
    "### *Data Quering*\n",
    "Now that the data is stored in a MySQL databases, it is possible to write SQL queries from Jupyter Notebook. It is a good idea to check for data entry error especially in for numerical data. The query below gets the `med_salary`, `min_salary` and `max_salary` of job postings in descending order. The result shows that there is an error in one of the entry. A job postings with a salary of `120 Million` is very unlikely on LinkedIn. This entry will be removed from the database."
   ]
  },
  {
   "cell_type": "code",
   "execution_count": 49,
   "id": "3a4efd57-688c-41f2-b4b1-adbf7778e664",
   "metadata": {},
   "outputs": [],
   "source": [
    "query = \"\"\"\n",
    "SELECT `salaries.csv`.max_salary, `salaries.csv`.med_salary, `salaries.csv`.min_salary, job_id\n",
    "FROM `salaries.csv`\n",
    "ORDER BY `salaries.csv`.max_salary DESC\n",
    "LIMIT 10\n",
    "\"\"\"\n"
   ]
  },
  {
   "cell_type": "code",
   "execution_count": 50,
   "id": "601379f9-ed25-4f0b-b162-c3d807f07ad4",
   "metadata": {},
   "outputs": [
    {
     "data": {
      "text/html": [
       "<div>\n",
       "<style scoped>\n",
       "    .dataframe tbody tr th:only-of-type {\n",
       "        vertical-align: middle;\n",
       "    }\n",
       "\n",
       "    .dataframe tbody tr th {\n",
       "        vertical-align: top;\n",
       "    }\n",
       "\n",
       "    .dataframe thead th {\n",
       "        text-align: right;\n",
       "    }\n",
       "</style>\n",
       "<table border=\"1\" class=\"dataframe\">\n",
       "  <thead>\n",
       "    <tr style=\"text-align: right;\">\n",
       "      <th></th>\n",
       "      <th>max_salary</th>\n",
       "      <th>med_salary</th>\n",
       "      <th>min_salary</th>\n",
       "      <th>job_id</th>\n",
       "    </tr>\n",
       "  </thead>\n",
       "  <tbody>\n",
       "    <tr>\n",
       "      <th>0</th>\n",
       "      <td>120000000.0</td>\n",
       "      <td>None</td>\n",
       "      <td>85000000.0</td>\n",
       "      <td>3904911743</td>\n",
       "    </tr>\n",
       "    <tr>\n",
       "      <th>1</th>\n",
       "      <td>1500000.0</td>\n",
       "      <td>None</td>\n",
       "      <td>350000.0</td>\n",
       "      <td>3884921825</td>\n",
       "    </tr>\n",
       "    <tr>\n",
       "      <th>2</th>\n",
       "      <td>1500000.0</td>\n",
       "      <td>None</td>\n",
       "      <td>350000.0</td>\n",
       "      <td>3884923184</td>\n",
       "    </tr>\n",
       "    <tr>\n",
       "      <th>3</th>\n",
       "      <td>1500000.0</td>\n",
       "      <td>None</td>\n",
       "      <td>350000.0</td>\n",
       "      <td>3884920734</td>\n",
       "    </tr>\n",
       "    <tr>\n",
       "      <th>4</th>\n",
       "      <td>1500000.0</td>\n",
       "      <td>None</td>\n",
       "      <td>350000.0</td>\n",
       "      <td>3884925602</td>\n",
       "    </tr>\n",
       "  </tbody>\n",
       "</table>\n",
       "</div>"
      ],
      "text/plain": [
       "    max_salary med_salary  min_salary      job_id\n",
       "0  120000000.0       None  85000000.0  3904911743\n",
       "1    1500000.0       None    350000.0  3884921825\n",
       "2    1500000.0       None    350000.0  3884923184\n",
       "3    1500000.0       None    350000.0  3884920734\n",
       "4    1500000.0       None    350000.0  3884925602"
      ]
     },
     "execution_count": 50,
     "metadata": {},
     "output_type": "execute_result"
    }
   ],
   "source": [
    "df_query_result = pd.read_sql(query, con=engine)\n",
    "\n",
    "# Display the result\n",
    "df_query_result.head()\n"
   ]
  },
  {
   "cell_type": "code",
   "execution_count": 51,
   "id": "d6f844b1-627a-4c5a-957b-9aa842ffde0a",
   "metadata": {},
   "outputs": [],
   "source": [
    "query = \"\"\"\n",
    "DELETE FROM `postings.csv`\n",
    "WHERE job_id = 3904911743;\n",
    "\"\"\"\n"
   ]
  },
  {
   "cell_type": "code",
   "execution_count": 52,
   "id": "f35ff904-2f54-4a7f-8707-e2057088c855",
   "metadata": {},
   "outputs": [],
   "source": [
    "# df_query_result = pd.read_sql(query, con=engine)\n",
    "\n",
    "# Unfortunately, can't delete record from a database without permission so this will be done manually in MySQL command line"
   ]
  }
 ],
 "metadata": {
  "kernelspec": {
   "display_name": "Python 3 (ipykernel)",
   "language": "python",
   "name": "python3"
  },
  "language_info": {
   "codemirror_mode": {
    "name": "ipython",
    "version": 3
   },
   "file_extension": ".py",
   "mimetype": "text/x-python",
   "name": "python",
   "nbconvert_exporter": "python",
   "pygments_lexer": "ipython3",
   "version": "3.12.6"
  }
 },
 "nbformat": 4,
 "nbformat_minor": 5
}
